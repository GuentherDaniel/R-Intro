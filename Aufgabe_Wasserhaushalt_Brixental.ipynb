{
 "cells": [
  {
   "cell_type": "markdown",
   "metadata": {},
   "source": [
    "# Wasserhaushalt alpiner Einzugsgebiete"
   ]
  },
  {
   "cell_type": "markdown",
   "metadata": {},
   "source": [
    "Wir wollen die klima- und landnutzungsbedingten Veränderungen auf den erweiterten Wasserhaushalt für das Einzugsgebiet der Brixentaler Ache untersuchen. Bevor wir die dazu nötigen Daten einlesen, müssen wir die library(lubridate) laden..."
   ]
  },
  {
   "cell_type": "code",
   "execution_count": 1,
   "metadata": {},
   "outputs": [
    {
     "name": "stderr",
     "output_type": "stream",
     "text": [
      "\n",
      "Attaching package: ‘lubridate’\n",
      "\n",
      "The following object is masked from ‘package:base’:\n",
      "\n",
      "    date\n",
      "\n"
     ]
    }
   ],
   "source": [
    "library(lubridate)"
   ]
  },
  {
   "cell_type": "markdown",
   "metadata": {},
   "source": [
    "Und einen neuen Pfad für das Arbeitsverzeichnis setzen, da sich die Daten in einem Unterordner ('/home/jovyan/Wasserhaushalt_Brixental') befinden."
   ]
  },
  {
   "cell_type": "code",
   "execution_count": 2,
   "metadata": {},
   "outputs": [],
   "source": []
  },
  {
   "cell_type": "markdown",
   "metadata": {},
   "source": [
    "Als nächstes Überprüfen wir, ob das Verzeichnis neu gesetzt wurde getwd() und können uns mit list.files() den Inhalt des Ordners anzeigen lassen."
   ]
  },
  {
   "cell_type": "code",
   "execution_count": null,
   "metadata": {},
   "outputs": [],
   "source": []
  },
  {
   "cell_type": "code",
   "execution_count": null,
   "metadata": {},
   "outputs": [],
   "source": []
  },
  {
   "cell_type": "markdown",
   "metadata": {},
   "source": [
    "Nun kann das eigentliche Einlesen der Daten mit dem Befehl read.table() erfolgen. Die Daten liegen im csv Format vor und sind durch Tabs getrennt, deswegen benötigen wir die Bezeichnung \"\\t\". Zudem sagen wir R, dass die Spaltenbeschriftung übernommen header = TRUE wird und das Dezimaltrennzeichen ein Punkt ist. Wir lesen zunächst erst einmal den Niederschlag (precip) ein und lassen uns die summary ausgeben. In der Zusammenfassung erkennt man, dass sich nur die Klimaszenarien (A1B und RCP8.5) unterscheiden. Die erste Spalte des data frames ist die Datumsspalte mit monatlichen Werten."
   ]
  },
  {
   "cell_type": "code",
   "execution_count": null,
   "metadata": {},
   "outputs": [],
   "source": []
  },
  {
   "cell_type": "markdown",
   "metadata": {},
   "source": [
    "Wir transformieren mit as.Date() den Text aus der Spalte datetime in ein Datumformat."
   ]
  },
  {
   "cell_type": "code",
   "execution_count": 6,
   "metadata": {},
   "outputs": [],
   "source": []
  },
  {
   "cell_type": "markdown",
   "metadata": {},
   "source": [
    "Wir definieren die erste Zeitscheibe, die dem Referenzzeitraum (1981-2005) entspricht. Da wir uns hier am hydrologischen Jahr orientieren, beginnt diese am 1981-10-31 und endet am 2005-09-30. Zudem wollen wir alle Szenarien (Spalten) auswählen."
   ]
  },
  {
   "cell_type": "code",
   "execution_count": 7,
   "metadata": {},
   "outputs": [],
   "source": []
  },
  {
   "cell_type": "markdown",
   "metadata": {},
   "source": [
    "Jetzt können wir schon einen ersten line Plot machen, in dem wir für die erste Zeitscheibe den Niederschlag der beiden Klimaszenarien in zwei unterschiedlichen Farben darstellen. Damit die beiden Linien die gleiche plot range haben, setzten wir das ylim auf die range des RCP8.5 Niederschlags. Anschließend beschriften wir die Achsen und fügen einen aussagekräftigen Titel hinzu. Zusätzlich legen wir noch eine Legende an."
   ]
  },
  {
   "cell_type": "code",
   "execution_count": null,
   "metadata": {},
   "outputs": [],
   "source": []
  },
  {
   "cell_type": "markdown",
   "metadata": {},
   "source": [
    "Als nächstes aggregieren wir die Monatsniederschlagswerte zu Mittelwerten für den Zeitraum 1981-2005 mit der Funktion aggregate(). Bevor wir mit dem Aggregieren loslegen können, müssen wir unserem data frame eine Spalte mit den Monatswerten aus der Spalte datetime hinzufügen. Danach können wir die Werte des A1B.A Szenarios anhand der Monate als Mittelwerte FUN=mean zusammenfassen.  "
   ]
  },
  {
   "cell_type": "code",
   "execution_count": null,
   "metadata": {},
   "outputs": [],
   "source": []
  },
  {
   "cell_type": "markdown",
   "metadata": {},
   "source": [
    "dim() zeigt die Dimensionen (rows and columns) des data frames an."
   ]
  },
  {
   "cell_type": "code",
   "execution_count": null,
   "metadata": {},
   "outputs": [],
   "source": []
  },
  {
   "cell_type": "markdown",
   "metadata": {},
   "source": [
    "ncol() zeigt die Anzahl an Spalten und nrow() die der Zeilen."
   ]
  },
  {
   "cell_type": "code",
   "execution_count": null,
   "metadata": {},
   "outputs": [],
   "source": []
  },
  {
   "cell_type": "markdown",
   "metadata": {},
   "source": [
    "Wir können den Spalten des data frames noch aussagekräftige Namen mit dem Befehl colnames() geben. "
   ]
  },
  {
   "cell_type": "code",
   "execution_count": null,
   "metadata": {},
   "outputs": [],
   "source": []
  },
  {
   "cell_type": "markdown",
   "metadata": {},
   "source": [
    "Bevor es zum erneuten Plotten geht, aggregieren wir ebenfalls den Niederschlag des RCP8.5 Szenarios und weisen den Spalten die gleichen Beschriftungen zu. "
   ]
  },
  {
   "cell_type": "code",
   "execution_count": null,
   "metadata": {},
   "outputs": [],
   "source": []
  },
  {
   "cell_type": "markdown",
   "metadata": {},
   "source": [
    "Wir Plotten nun die Niederschlagsregime der beiden Klimaszenarien für die erste Zeitscheibe. Zum besseren Ablesen der Werte können wir mit dem Befehl grid(NULL, NULL, lwd =1) ein Raster über den Plot legen. Möchte man die Schriftgröße des Titels anpassen, so kann man das über den Befehl cex.main machen. Der Wertebereich ist hier von 0.1 bis 1."
   ]
  },
  {
   "cell_type": "code",
   "execution_count": null,
   "metadata": {},
   "outputs": [],
   "source": []
  },
  {
   "cell_type": "markdown",
   "metadata": {},
   "source": [
    "Wie kann das Aggregieren für mehrere Szenarien verkürzt werden? Hierzu lesen wir die Evapotranspiration (etr) ein und transformieren die Datumsspalte erneut. Zudem fügen wir wieder eine Spalte mit den Monaten hinzu und lassen uns die ersten zehn Reihen des data frames anzeigen."
   ]
  },
  {
   "cell_type": "code",
   "execution_count": null,
   "metadata": {},
   "outputs": [],
   "source": []
  },
  {
   "cell_type": "markdown",
   "metadata": {},
   "source": [
    "Nun machen wir uns mit Listen in R vertraut. Listen können Elemente verschiedenen Typs beinhalten, wie zum Beispiel numbers, strings und vectors. Wir erstellen uns jetzt eine Testliste indem wir Szenarien und Monate zunächst als Vektoren definieren.\n",
    "\n",
    "scenario=c('A1B.A', 'A1B.B', 'A1B.C', 'A1B.BASELINE', 'RCP85.A', 'RCP85.B', 'RCP85.C', 'RCP85.BASELINE')\n",
    "month=c(seq(1,12,1))\n",
    "test_list=list(month,scenario) # Liste ist ein Vektor, der Objekte enthält\n",
    "\n",
    "Wie sieht diese Liste nun aus?"
   ]
  },
  {
   "cell_type": "code",
   "execution_count": null,
   "metadata": {},
   "outputs": [],
   "source": []
  },
  {
   "cell_type": "markdown",
   "metadata": {},
   "source": [
    "Wie lang ist diese Liste? length() gibt die Länge aus."
   ]
  },
  {
   "cell_type": "code",
   "execution_count": null,
   "metadata": {},
   "outputs": [],
   "source": []
  },
  {
   "cell_type": "markdown",
   "metadata": {},
   "source": [
    "Wir wählen eine Objektreihe aus der Liste mit einfachen [] aus."
   ]
  },
  {
   "cell_type": "code",
   "execution_count": null,
   "metadata": {},
   "outputs": [],
   "source": []
  },
  {
   "cell_type": "markdown",
   "metadata": {},
   "source": [
    "Wollen wir mehrere Objektreihen aus der Liste auswählen, so können wir einen Bereich in den [] definieren."
   ]
  },
  {
   "cell_type": "code",
   "execution_count": null,
   "metadata": {},
   "outputs": [],
   "source": []
  },
  {
   "cell_type": "markdown",
   "metadata": {},
   "source": [
    "Wollen wir aber nur einen Member aus einer Objektreihe auswählen, verwenden wir doppelte [[]] und einfache [] für die Objektreihe."
   ]
  },
  {
   "cell_type": "code",
   "execution_count": null,
   "metadata": {},
   "outputs": [],
   "source": []
  },
  {
   "cell_type": "markdown",
   "metadata": {},
   "source": [
    "Soweit das mit der Navigation in Listen klappt, können wir uns mit den for() loops (Schleifen) in R auseinandersetzten. Mit dem loop können wir uns über eine Zählervariable durch Listen bewegen. Für den Anfang schreiben wir eine einfache Schleife: \n",
    "\n",
    "for(i in c(1:12)){ \n",
    "    print(i)\n",
    "    }\n",
    "    \n",
    "Wir sehen, i ist die Variable, die so lange ausgegeben wird bis der Anweisungsvektor erfüllt ist. In unserem Fall ist die Abbruchbedingung die Zahl 12."
   ]
  },
  {
   "cell_type": "code",
   "execution_count": null,
   "metadata": {},
   "outputs": [],
   "source": []
  },
  {
   "cell_type": "markdown",
   "metadata": {},
   "source": [
    "Bevor wir die Schleife für das Aggregieren anwenden können, definieren wir wieder die erste Zeitscheibe für etr und legen eine leere Liste an, in die die aggregierten Werte geschrieben werden: \n",
    "\n",
    "etr_1_list = list()\n",
    "\n",
    "Wie lange muss unser Anweisungsvektor sein?\n",
    "\n",
    "Wir wollen alle aggregierten Monatswerte eines Szenarios als eine eigene Vektorreihe in die Liste schreiben und verwenden deswegen etr_1_list[[i]]=aggregate(). Die aggregate Funktion ist bis auf eine kleine Ausnahme identisch mit der bereits bekannten Funktion. Wir müssen nur definieren für welchen Wertebereich die Zusammenfassung erfolgen soll. Dazu schreiben wir aggregate(etr_[[1+i]] ~ .... mit dem 1+i gehen wir sicher, dass die Zusammenfassung nicht für die Datumsspalte durchgeführt wird. War das Aggregieren erfolgreich, können wir uns die erstellte Liste und den Aufbau mal genauer anschauen."
   ]
  },
  {
   "cell_type": "code",
   "execution_count": null,
   "metadata": {},
   "outputs": [],
   "source": []
  },
  {
   "cell_type": "markdown",
   "metadata": {},
   "source": [
    "Wie lang ist unsere Liste?"
   ]
  },
  {
   "cell_type": "code",
   "execution_count": null,
   "metadata": {},
   "outputs": [],
   "source": []
  },
  {
   "cell_type": "markdown",
   "metadata": {},
   "source": [
    "Jetzt können wir diese Liste plotten indem wir wieder für jede Linie in unserem Plot eine Vektorreihe auswählen mit [[]]. Für die Plots muss keine Datumsspalte ausgewählt werden, da wir ja nur 12 Objekte in der Vektorreihe haben. Nun könnt ihr einfach alle weiteren Szenarien mit lines() hinzufügen und einer bestimmten Farbe oder einer anderen Liniensignatur lty= zuweisen. In der Legende kann man über c() für jede Linie einen Namen, die jeweilige Farbe und/oder Liniensignatur hinzufügen."
   ]
  },
  {
   "cell_type": "code",
   "execution_count": null,
   "metadata": {},
   "outputs": [],
   "source": []
  },
  {
   "cell_type": "markdown",
   "metadata": {},
   "source": [
    "Für unseren nächsten Plot erstellen wir die restlichen drei Zeitscheiben von etr und aggregieren über die selbe Methodik die Monatswerte. Es wäre sinnvoll die Listen einfach durch zu nummerieren (etr_1_list, etr_2_list,...), um am Schluss den Überblick zu behalten.  "
   ]
  },
  {
   "cell_type": "code",
   "execution_count": 33,
   "metadata": {},
   "outputs": [],
   "source": []
  },
  {
   "cell_type": "markdown",
   "metadata": {},
   "source": [
    "Haben wir nun zu jeder Zeitscheibe die jeweilige Liste, können wir mit dem Befehl par(mfrow=c(2,2)) ein neues Plotfenster mit vier gleich großen Plots definieren. Dadurch bekommen wir ein Plotfenster mit nrows=2 und ncols=2. Zu beachten ist, dass mit jedem neuen Befehl plot() ein neues Fenster \"gefüllt\" wird. Ansonsten können wir, wie schon von oben bekannt, die Plotcodes übernehmen und untereinanderschreiben. Es sollte darauf geachtet werden, dass die Reihenfolge der Zeitscheiben stimmt. Damit wir wissen welche Zeitscheibe wo im Plot zu sehen ist, sollte dies aus der Überschrift hervorgehen. Zudem ist es sinnvoll die Achsen cex.axis= und Beschriftungen cex.lab= und die Legende cex= in ihrer Größe anzupassen. Die Umrandung der Legende kann durch bty=\"n\" entfernt werden. Jetzt haben wir eine vollständige Zeitreihe, die wir analysieren können."
   ]
  },
  {
   "cell_type": "code",
   "execution_count": null,
   "metadata": {},
   "outputs": [],
   "source": []
  },
  {
   "cell_type": "markdown",
   "metadata": {},
   "source": [
    "Falls wir die genauen Werte nicht aus den Liniendiagrammen ablesen können, kann man diese entweder in den jeweiligen Listen nachschauen oder man erstellt sich aus den einzelnen Listen einen jeweiligen data frame. Über den Befehl cbind.data.frame() werden die Vektorreihen aus der Liste spaltenweise, deswegen cbind für column bind, aneinander gefügt. Dazu wählen wir erstmal die erste Vektorreihe etr_4_list[[1]][1] aus, um mit einer Datumsspalte zu starten. Anschließend können weiteren Reihen (etr_4_list[[1]][1],etr_4_list[[1]][2],...) hinzugefügt werden durch eine einfach Auflistung. In dem data frame können wir nun die Werte der einzelnen Szenarien aus einer Zeitscheibe übersichtlich anschauen. Mit dem selben Verfahren können wir die klima- und landnutzungsbedingten Veränderungen auf den Abfluss, die Evaporation aus dem flüssigen und festen Interzeptionsspeicher und die Transpiration untersuchen. Da es bei Temperatur und Niederschlag keine landnutzungsbedingte Veränderung gibt, reicht es in den Plots aus nur das Baseline Szenario darzustellen. Viel Erfolg bei der Interpretation der Ergebnisse!    "
   ]
  },
  {
   "cell_type": "code",
   "execution_count": null,
   "metadata": {},
   "outputs": [],
   "source": []
  }
 ],
 "metadata": {
  "kernelspec": {
   "display_name": "R",
   "language": "R",
   "name": "ir"
  },
  "language_info": {
   "codemirror_mode": "r",
   "file_extension": ".r",
   "mimetype": "text/x-r-source",
   "name": "R",
   "pygments_lexer": "r",
   "version": "3.4.2"
  }
 },
 "nbformat": 4,
 "nbformat_minor": 2
}
