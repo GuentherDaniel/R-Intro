{
 "cells": [
  {
   "cell_type": "markdown",
   "metadata": {},
   "source": [
    "# ----------------- Kurzeinführung in die Datenanlyse mit R -----------------"
   ]
  },
  {
   "cell_type": "markdown",
   "metadata": {},
   "source": [
    "Dies ist eine kurze Einführung in R für (Noch-)Nichtprogrammierer zum Einlesen, Analysieren und Darstellen tabellarischer Daten. Das Ziel ist nicht, Euch zu perfekten R ProgrammiererInnen zu machen, sondern durch Aufzeigen einiger paraktischer und einfacher Funktionen die Verwendung von Programmiersprachen/Entwicklungsumgebungen schmackhaft zu machen und etwas \"die Angst\" zu nehmen diese zu verwenden!\n",
    "\n",
    "Neben der hier dargestellten Funktionalität könnt Ihr sehr einfach weitere Informationen zum Arbeiten mit R im Internet finden, z.B. durch Verwendung der Google Suchfunktion und den Ergebnissen auf der Seite stackoverflow.com - einfach mal ausprobieren.\n",
    "\n",
    "----------------------------------------------\n",
    "Anbei einige Infos zum grundlegenden Ablauf:\n",
    "----------------------------------------------\n",
    "\n",
    "1) Wir verwenden heute die Skriptsprache R die auch webbasiert in Form eines Jupyter-Notebooks verwendet werden kann.\n",
    "\n",
    "2) Die verwendeten Daten müssen in den Arbeitsbereich geladen werden (File -> Open -> Upload), Euer eigenes \"Notebook\" müsst Ihr immer wieder einmal herunterladen (File -> Download as -> Notebook), man kann dieses nicht online speichern!\n",
    "\n",
    "3) In den Beispielen hier wird ein \"Notebook\" durch Hinzufügen von Zeilen erweitert, deren Typ als \"Code\" oder \"Markdown\" definiert werden sollte (siehe Drop Down Menü oben). Code Tellen enthalten ausführbaren Quellcode, Markdown Zellen enthalten beschreibende Information (Überschriften, Erklärungen etc.).\n",
    "\n",
    "4) Eine Überschrift erster Hierarchie kann man in einer Markdown Zelle durch Stellen von \"#\" an den Zeilenbegin erzeugen, für die nächste Hierarchiestufe verwendet man \"##\".\n",
    "\n",
    "5) Ausgeführt werden die Zellen über \"Cell\" --> \"Run Cells\" oder \"Run All\" bzw. für eine Zeile mit \"Enter + Str\"!\n",
    "\n",
    "6) Auch innerhalb einer Code Zelle kann man Bereiche auskommentieren, indem man ein \"#\" an den Zeilenafang schreibt - diese Zeile im Code wird dann nicht ausgeführt bzw. berücksichtigt!\n",
    "\n",
    "7) Das Notebook wird bei Ausführen von \"Run all\" Zeile für Zeile ausgeführt, die Ergebnisse der Berechnungen sind dann im Speicher! Ich kann also nicht zu Begin nur die 10te Zeile ausführen, da die Zwischenergebnisse der Zeilen 1-9 noch nicht bekannt sind. Ist einmal alles ausgeführt worden, kann ich aber einzelne Zeilen verändern und dann neu ausführen!"
   ]
  },
  {
   "cell_type": "markdown",
   "metadata": {},
   "source": [
    "## Grundlegendes"
   ]
  },
  {
   "cell_type": "markdown",
   "metadata": {},
   "source": [
    "In der Programmierung arbeitet man mit \"Variablen\" die durch \"Operationen\" miteinander verarbeitet werden. So kann man einer frei zu definierenden Variablen einen Wert zuweisen und diese Variable dann mit einer anderen verrechnen. Die Wertzuweisung erfolg in R durch \"<-\" oder \"=\"."
   ]
  },
  {
   "cell_type": "code",
   "execution_count": null,
   "metadata": {},
   "outputs": [],
   "source": []
  },
  {
   "cell_type": "markdown",
   "metadata": {},
   "source": [
    "Schreiben wir den Namen der Variablen aus und führen die Zeile aus wird der Wert der Variable ausgegeben."
   ]
  },
  {
   "cell_type": "code",
   "execution_count": null,
   "metadata": {},
   "outputs": [],
   "source": []
  },
  {
   "cell_type": "markdown",
   "metadata": {},
   "source": [
    "Wir können uns die Art einer Variable durch \"class()\" anzeigen lassen. \n",
    "\n",
    "In diesem Fall ist es eine Variable vom Typ \"numeric\", also eine Zahl. Neben Zahlen gibt es zum Beispiel noch Character Variablen, diese enthalten eine Zeichenfolge. \"15\" könnte also sowhol eine numerische Variable sein, aber auch eine Zeichenfolge - mit Zeichenfolgen kann man aber nicht rechnen."
   ]
  },
  {
   "cell_type": "code",
   "execution_count": null,
   "metadata": {},
   "outputs": [],
   "source": []
  },
  {
   "cell_type": "markdown",
   "metadata": {},
   "source": [
    "Der Befehl \"str()\" gibt uns Information über die Struktur unserer Daten. \n",
    "\n",
    "In diesem Fall ist das nur die Information, das es sich um eine Zahl mit dem Wert 15 handelt. Wir werden später mit \"Dataframes\" arbeiten, hier können unterschiedliche Spalten unterschiedliche Typen (z.B. Zahl, Zeichenfolge) haben."
   ]
  },
  {
   "cell_type": "code",
   "execution_count": null,
   "metadata": {},
   "outputs": [],
   "source": []
  },
  {
   "cell_type": "markdown",
   "metadata": {},
   "source": [
    "Oft ist es parktisch sich sein Working Directory anzeigen zu lassen, z.B. wenn man eine Datei mit dem Namen aber ohne Pfad angibt, diese wird dann nämlich nur dort gesucht. Einfach geht das mit dem Aufruf von \"getwd()\". In unserem Fall arbeiten wir gerade online und müssen alle Daten/Dateien hochladen - diese sind dann ohnehin im Working Directory."
   ]
  },
  {
   "cell_type": "code",
   "execution_count": null,
   "metadata": {},
   "outputs": [],
   "source": []
  },
  {
   "cell_type": "markdown",
   "metadata": {},
   "source": [
    "## Einbinden von Bibliotheken (Libraries)"
   ]
  },
  {
   "cell_type": "markdown",
   "metadata": {},
   "source": [
    "Während viele Befehle zur Standardfunktion von R gehören, erfordern einige Operation Zusatzfunktionalität, welche in Form von Bibliotheken eingebunden werden kann. Hierzu muss der Befehl \"library()\" in Zusammenhang mit dem Namen der einzubindenden Bibliothek eingeben werden. Wir binden Testweise die Library \"lubridate\" ein:\n",
    "\n",
    "(Falls beim Einfügen einer Library unten eine Warnung ausgegeben wird ist das nicht weiter schlimm, es z.T. mehrere Funktionen in unterschiedlichen Versionen, uns stört das hier nicht unbedingt.)"
   ]
  },
  {
   "cell_type": "code",
   "execution_count": null,
   "metadata": {},
   "outputs": [],
   "source": []
  },
  {
   "cell_type": "markdown",
   "metadata": {},
   "source": [
    "Will man wissen, welche Bibliotheken gerade geladen sind, kann man das mit \"search()\" herausfinden! Die generell installierten, aber evtl. nicht geladenen Bibliotheken findet man über \"library()\"."
   ]
  },
  {
   "cell_type": "code",
   "execution_count": null,
   "metadata": {},
   "outputs": [],
   "source": []
  },
  {
   "cell_type": "markdown",
   "metadata": {},
   "source": [
    "In R arbeitet man oft mit vordefinierten Funktionen die in Bibliotheken definiert sind. Will ich Hilfe zu einer solchen Funktion, hilft Aufruf von \"help(Funktionsname)\". Wir testen das anhand der Mittelwertsfunktion \"mean()\":"
   ]
  },
  {
   "cell_type": "code",
   "execution_count": null,
   "metadata": {},
   "outputs": [],
   "source": []
  },
  {
   "cell_type": "markdown",
   "metadata": {},
   "source": [
    "## Einlesen von Daten"
   ]
  },
  {
   "cell_type": "markdown",
   "metadata": {},
   "source": [
    "Das Einlesen tabellarischer Daten in R ist sehr einfach. Durch die Funktion \"read.table\" können tabellarische Daten in unterschiedlichen Formaten eingelesen werden. Man gibt hierfür den Namen in \"\", das Trennungszeichen \"sep=\" sowie die Information darüber, ob ein Header (eine vorangehende Nichtdatenzeile mit Spaltennamen) existiert an. Weiter kann ich angeben, welches Dezimaltrennzeichen in meinen Daten verwendet wird (dec = \".\"). Mit dem Argument \"skip=\" könnte man noch angeben, dass eine bestimmte Anzahl an Zeilen übersprungen werden soll, z.B. wenn in den ersten Zeilen unnötige Zusatzinformation enthalten ist - in unserem Testfall ist da nur ein Header, den wir nicht überspringen wollen.\n",
    "\n",
    "Die Datei selbst sollte man zuvor über \"File-->Open\" und \"Upload\" hochladen.\n",
    "\n",
    "Tipp: Schaut Euch die tabellarischen Daten zunächst im Texteditor Eurer Wahl (Windows: Notepad, Mac: TextEdit, ...) an. So seht Ihr wie die Daten eigentlich aussehen (Spalten, Header, Trennzeichen, etc.)!\n",
    "\n",
    "Optionen für Trennzeichen (sep=\"\"):\n",
    "\n",
    "Komma --> \",\" / Strichpunkt --> \";\" / Tabulator --> \"\\t\" / Kein Zeichen --> \"white space\""
   ]
  },
  {
   "cell_type": "code",
   "execution_count": null,
   "metadata": {},
   "outputs": [],
   "source": []
  },
  {
   "cell_type": "markdown",
   "metadata": {},
   "source": [
    "## Datenstruktur"
   ]
  },
  {
   "cell_type": "markdown",
   "metadata": {},
   "source": [
    "Die eingelesenen Daten befinden sich nun im Speicher des Rechners als Werte der Variaben \"mydata\" und wir können uns diese Daten einmal ansehen. Der Befehl names(mydata) zeigt uns alle Spaltennamen an!\n",
    "\n",
    "Tipp:\n",
    "\n",
    "Unter Verwendung der Funktion \"setNames()\" kann man die Spalten jederzeit umbenennen (hier nicht nötig):\n",
    "\n",
    "Bsp: setNames(mydata, c(\"date\", \"minTemp (K)\", \"maxTemp (K), \"precip (mm/d)\"))"
   ]
  },
  {
   "cell_type": "code",
   "execution_count": null,
   "metadata": {},
   "outputs": [],
   "source": []
  },
  {
   "cell_type": "markdown",
   "metadata": {},
   "source": [
    "Die Klasse der Variablen \"mydata\" wird als \"data.frame\" angezeigt - dieser ist sehr ähnlich einer Excel Tabelle mit unterschiedlichen Zeilen und Spalten. Neben den Dataframes gibt es viele andere Formate (z.B. das xts Format) die alle Ihre Vorteile und evtl. leicht andere Befehlssyntax haben - das aber nur am Rande."
   ]
  },
  {
   "cell_type": "code",
   "execution_count": null,
   "metadata": {},
   "outputs": [],
   "source": []
  },
  {
   "cell_type": "markdown",
   "metadata": {},
   "source": [
    "Den gesamten Inhalt der Daten kann ich mir leicht ansehen, wenn ich alle Daten der Variable\n",
    "einfach mal ausdrucke. Das mache ich indem ich die Variable ohne weiteren Befehl ausführe.\n",
    "\n",
    "Wir können diese Zeile nach der Betrachtung mit \"#\" auskommentieren, damit unser Notebook nicht unnötig unübersichtlich wird :-)"
   ]
  },
  {
   "cell_type": "code",
   "execution_count": null,
   "metadata": {},
   "outputs": [],
   "source": []
  },
  {
   "cell_type": "markdown",
   "metadata": {},
   "source": [
    "Will ich mir nur die ersten 10 Zeilen (n=10) ansehen, kann ich die Funktion \"head\" einsetzen! Wir sehen hier einen Fehlwert (\"Not-a-Number\" = \"NaN\") in der Niederschlagsreihe."
   ]
  },
  {
   "cell_type": "code",
   "execution_count": null,
   "metadata": {},
   "outputs": [],
   "source": []
  },
  {
   "cell_type": "markdown",
   "metadata": {},
   "source": [
    "Ich kann die einzelnen Spalten der Variable ansprechen, indem ich das \"$\" Zeichen verwende und den Spaltennamen angebe! Wir testen das mit einem einfachen Ausdrucken der Werte für unser Datum, wieder nur für die ersten 10 Zeilen!"
   ]
  },
  {
   "cell_type": "code",
   "execution_count": null,
   "metadata": {},
   "outputs": [],
   "source": []
  },
  {
   "cell_type": "markdown",
   "metadata": {},
   "source": [
    "## Datenstatistik"
   ]
  },
  {
   "cell_type": "markdown",
   "metadata": {},
   "source": [
    "Oft interresiert uns die Statistik der Daten, z.B. der Mittelwert oder die Standardabweichung - diese Information kann man sich über den Befehl \"summary\" ausgeben lassen! Wir sehen wieder im Fall des Niederschlags (precip) die Information über enthaltene Fehlwerte (\"Not-a-Number\")."
   ]
  },
  {
   "cell_type": "code",
   "execution_count": null,
   "metadata": {},
   "outputs": [],
   "source": []
  },
  {
   "cell_type": "markdown",
   "metadata": {},
   "source": [
    "## Einfache Plots"
   ]
  },
  {
   "cell_type": "markdown",
   "metadata": {},
   "source": [
    "Einfache Diagramme (= Plots) zu erstellen ist in R relativ einfach. Es gibt viele Plotting Bibliotheken (z.B. ggplot), wir wollen mit der Standard Plottingfunktion plot() arbeiten, da diese für Einsteiger leichter zu verstehen ist.\n",
    "\n",
    "Zunächst ist es sehr wichtig unsere erste Spalte von reinem Text in ein Datum zu transformieren, so dass beim Plotten auch entspechend geordnet und in der X-Achse beschriftet werden kann - dies erledigt die Funktion \"as.date()\"!"
   ]
  },
  {
   "cell_type": "code",
   "execution_count": null,
   "metadata": {},
   "outputs": [],
   "source": []
  },
  {
   "cell_type": "markdown",
   "metadata": {},
   "source": [
    "Wir erstellen nun unseren ersten Plot und überlassen so gut wie alles der plot() Funktion, d.h. wir geben ausser den X-Werten und Y-Werten keine Argumente mit an die Funktion."
   ]
  },
  {
   "cell_type": "code",
   "execution_count": null,
   "metadata": {},
   "outputs": [],
   "source": []
  },
  {
   "cell_type": "markdown",
   "metadata": {},
   "source": [
    "Die Werte scheinen plausibel, aber schön sieht das derzeit nicht aus. Wir versuchen es also nocheinmal und geben der plot() Funktion nun ein paar Informationen mehr mit, z.B. \n",
    "\n",
    "1) dass wir nur Linien, keine Punkte darstellen wollen (type=\"l\"), \n",
    "\n",
    "2) dass wir gerne eine rote Linie hätten (col=\"red\") und \n",
    "\n",
    "3) dass wir die Beschriftung der Achsen gerne selbst übernehmen (ann=FALSE).\n",
    "\n",
    "Weitere Optionen für die Darsttellung der Daten (type=\"\"):\n",
    "\n",
    "type=”l” --> nur Linien / type=”p” --> nur Punkte / type=”b” --> beides / type=\"h\" --> vertikale Linien = Balken / type=\"n\" --> nichts\n",
    "\n",
    "Weiter Farboptionen (col=\"\"):\n",
    "\n",
    "\"red\" / \"blue\" / \"black\" / ...\n",
    "\n",
    "Einen schönen Überblick über die in R standardmäßig (es gibt viele Erweiterungspakete) verfügbaren Farben findet Ihr unter: http://www.stat.columbia.edu/~tzheng/files/Rcolor.pdf"
   ]
  },
  {
   "cell_type": "code",
   "execution_count": null,
   "metadata": {},
   "outputs": [],
   "source": []
  },
  {
   "cell_type": "markdown",
   "metadata": {},
   "source": [
    "Nun wollen wir als zweite Zeitreihe die Minimaltemperatur (mydata$minTemp), einen Titel, Beschriftungen für die X- und Y-Achse sowie eine Legende hinzufügen. Wir verwenden das Attribut \"lty\" um den Linetype (Linientyp) zu definieren. Wir geben der Maximaltemperatur den Stil \"twodash\" (--) und der Minimaltempertur den Stil \"dottet\" (..). Beachtet, dass wir die Linientypen auch in der Legende angeben müssen, die Angaben erfolgen hier in Form eines Vektors (\"c()\") mit den beiden Linientypen.\n",
    "\n",
    "Tipps: \n",
    "\n",
    "1) Für die Legende gibt es verschiedene Platzierungsoptionen:\n",
    "\"bottomright\", \"bottom\", \"bottomleft\", \"left\", \"topleft\", \"top\", \"topright\", \"right\" and \"center\"\n",
    "\n",
    "2) Durch Angabe eines Versatzes (inset=\"\") in Prozent des Achsenbereichs sorgt man dafür, dass die Legende schön positioniert ist!\n",
    "\n",
    "3) Unterschiedliche Linientypen (lty=\"\"):\n",
    "\n",
    "twodash / longdash / dotdash / dotted / dashed / solid / blank"
   ]
  },
  {
   "cell_type": "code",
   "execution_count": null,
   "metadata": {},
   "outputs": [],
   "source": []
  },
  {
   "cell_type": "markdown",
   "metadata": {},
   "source": [
    "Wir wollen nun noch den Niederschlag als Balkendiagramm in blau plotten - wir tun dies unter Verwednung des Darstellungstypes \"h\" (type=\"h\")."
   ]
  },
  {
   "cell_type": "code",
   "execution_count": null,
   "metadata": {},
   "outputs": [],
   "source": []
  },
  {
   "cell_type": "markdown",
   "metadata": {},
   "source": [
    "Wir wollen nun einen Dichteplot erzeugen, der uns zeigt, wie die Maximaltemperatur über den Wertebereich verteilt ist. Hierzu verwenden wir erneut \"plot\", berechnen uns aber zunächst die Dichteverteilung (d_maxTemp), die wir einfach einmal ausgeben um uns die Berechnungen einmal anzusehen:"
   ]
  },
  {
   "cell_type": "code",
   "execution_count": null,
   "metadata": {},
   "outputs": [],
   "source": []
  },
  {
   "cell_type": "markdown",
   "metadata": {},
   "source": [
    "Nun wollen wir uns die berechnete Dichtefunktion (d_maxTemp) im Plot durch eine rote Linie (col=\"red\") darstellen, wieder wollen wir Titel und Achsenbeschriftung selbst definieren (ann=FALSE)."
   ]
  },
  {
   "cell_type": "code",
   "execution_count": null,
   "metadata": {},
   "outputs": [],
   "source": []
  },
  {
   "cell_type": "markdown",
   "metadata": {},
   "source": [
    "Wir fügen nun auch die Minimaltemperatur hinzu, diesmal in blau! Natürlich müssen wir den Titel auch ändern..."
   ]
  },
  {
   "cell_type": "code",
   "execution_count": null,
   "metadata": {},
   "outputs": [],
   "source": []
  },
  {
   "cell_type": "markdown",
   "metadata": {},
   "source": [
    "Hoppala, da ist die zweite Linie wohl etwas über das Ziel heraus geschossen. Also versuchen wir es nochmal, diesmal begrenzen wir die X- und Y-Achse durch die Argumete \"xlim\" und \"ylim\". Die Angaben erfolgen hier in Form eines Vektors \"c()\" mit den Minimal- und Maximawerten. Auch eine Legende fügen wir hinzu..."
   ]
  },
  {
   "cell_type": "code",
   "execution_count": null,
   "metadata": {},
   "outputs": [],
   "source": []
  },
  {
   "cell_type": "markdown",
   "metadata": {},
   "source": [
    "## Zeiträume aus den Daten auswählen"
   ]
  },
  {
   "cell_type": "markdown",
   "metadata": {},
   "source": [
    "Manchmal will man nur mit einem Zeitbereich einer Datenreihe arbeiten. Dann kann man auch Zeiträume wählen und am besten einer anderen Variablen zuordnen - so verlieren wir nicht unsere ursprünglichen Daten. Wir wählen zum Test nur 5 Tage und weisen die entsprechenden Werte der Variable \"mydata_selection\" zu. Danach geben wir uns die Werte durch Eingabe des Variablennamens aus.\n",
    "\n",
    "Aber was macht eigentlich dieses einzelne Komma in der eckigen Klammer?\n",
    "--> Der Zugriff auf Daten in einem Dataframe erfolgt über die Zeilen und Spalten in eckigen Klammern, z.B. mydata[ZeileX:ZeileY, SpalteX:SpalteY]. Hier definieren wir den Zeilenbereich über einen Datumsbereich, den Spaltenbereich nach dem Komma definieren wir nicht weiter, d.h. uns interessieren alle Spalten!"
   ]
  },
  {
   "cell_type": "code",
   "execution_count": null,
   "metadata": {},
   "outputs": [],
   "source": []
  },
  {
   "cell_type": "markdown",
   "metadata": {},
   "source": [
    "Ich kann auch über den Zeilen- bzw. Spaltenindex aus meinen Daten auswählen - wir wählen die Zeilen 18994-18998 (entspricht dem vorher gewählten Datumsbereich), definieren nun aber in der Spaltendimension nach dem Komma, dass uns nur die Spalten 1-3 interessieren! "
   ]
  },
  {
   "cell_type": "code",
   "execution_count": null,
   "metadata": {},
   "outputs": [],
   "source": []
  },
  {
   "cell_type": "markdown",
   "metadata": {},
   "source": [
    "Ich kann die Splaten auch bei Ihrem Namen ansprechen und so eine Auswahl treffen, z.B. indem ich nur die Spalten \"date\" und \"precip\" in einem Vektor \"c()\" angebe!"
   ]
  },
  {
   "cell_type": "code",
   "execution_count": null,
   "metadata": {},
   "outputs": [],
   "source": []
  },
  {
   "cell_type": "markdown",
   "metadata": {},
   "source": [
    "Die eben demonstrierten Optionen zur Auswahl sind natürlich beliebig kombinierbar!"
   ]
  },
  {
   "cell_type": "markdown",
   "metadata": {},
   "source": [
    "## Daten monatsweise oder jährlich zusammenfassen"
   ]
  },
  {
   "cell_type": "markdown",
   "metadata": {},
   "source": [
    "Will man sich eine tägliche Zeitreihe auf Monats oder Jahresbasis ansehen, so ist es erforderlich diese entsprechend zusammenzufassen (= zu aggregieren). Dies ist am leichtesten und übersichtlichsten, wenn man zunächst in der Zeitreihe eine Spalte anlegt, die das Kriterium enthält anhand dessen zusammengefasst werden soll (z.B. nur den Monat, nur das Jahr, Jahr&Monat,...)!\n",
    "\n",
    "Um die Temperatur auf Monatsbasis zusammenzufassen weisen wir zunächst einer neuen Spalte \"ym\" in \"mydata\" nur die Jahres- und Monatsinformation unserer ursprünglichen Datumsspalte (mydata$date) zu - diese Information wird das Kriterium unserer Aggregierung. Den Header unseres Ergebnisis geben wir uns zur Kontrolle aus. \n",
    "\n",
    "Wir nehmen wieder zur Kenntniss, dass sich Not-A-Number (NaN) Werte in der Zeitreihe befinden."
   ]
  },
  {
   "cell_type": "code",
   "execution_count": null,
   "metadata": {},
   "outputs": [],
   "source": []
  },
  {
   "cell_type": "markdown",
   "metadata": {},
   "source": [
    "Wir wollen nun einzelne Spalten auf Monatsbasis zusammenfassen. Je nach der betrachteten Größe müssen wir dafür natürlich den Mittelwert (FUN=mean), die Summe (FUN=sum) oder vielleicht sogar den Minimal- (FUN=min) oder Maximalwert (FUN=max) berechnen. In jedem Fall entfernen wir aber immer gleich die Fehlwerte (na.rm=TRUE). \n",
    "\n",
    "Wir fassen zunächst die Maximaltempertur zu Monatswerten zusammen, dabei nehmen wir immer den höchsten Wert (FUN=max). Das Ergebnis zeigen wir uns mit \"head()\" an:"
   ]
  },
  {
   "cell_type": "code",
   "execution_count": null,
   "metadata": {},
   "outputs": [],
   "source": []
  },
  {
   "cell_type": "markdown",
   "metadata": {},
   "source": [
    "Achtung, die Spalte \"ym\" ist zunächst wieder nicht als Datum formatiert, sondern als Character (=Zeichenfolge). Das können wir mit \"str(maxTemp_monthly)\" beweisen - allerdings stört uns das an dieser Stelle gerade nicht!"
   ]
  },
  {
   "cell_type": "code",
   "execution_count": null,
   "metadata": {},
   "outputs": [],
   "source": []
  },
  {
   "cell_type": "markdown",
   "metadata": {},
   "source": [
    "Nun wollen wir Jahrewerte bilden. Das machen wir ähnlich wie für die Monatsmittel, nur legen wir diesmal in \"mydata\" eine Spalte \"y\" an und verwenden als Aggregierungsmethode wieder das Maximum der Reihe (\"FUN=max\")."
   ]
  },
  {
   "cell_type": "code",
   "execution_count": null,
   "metadata": {},
   "outputs": [],
   "source": []
  },
  {
   "cell_type": "markdown",
   "metadata": {},
   "source": [
    "Achtung, die Spalte \"y\" ist zunächst wieder nicht als Datum formatiert, sondern als Character (=Zeichenfolge) - auch hier stört uns das gerade nicht!\n",
    "\n",
    "Die eben berechneten jährlichen Temperaturmaxima wollen wir wieder plotten: "
   ]
  },
  {
   "cell_type": "code",
   "execution_count": null,
   "metadata": {},
   "outputs": [],
   "source": []
  },
  {
   "cell_type": "markdown",
   "metadata": {},
   "source": [
    "Etwas komplizierter wird es wenn wir für die 12 Monate des Jahres einen mittleren Wert einer mehrjährigen Zeitreihe bilden wollen. Ganz besonders im Fall des Niederschlags, hier müssen wir eigentlich zunächst über die Jahr- und Monatsinformation per Summe aggregieren (das gibt für jeden Monat und die unterschiedichen Jahre eine Niederschlagssumme) und dann nochmal nur unter Verwendung der Monatsinformation und die Mittelwertbildung einen mittleren monatlichen Niederschlag für die Zeitreihe berechnen.\n",
    "\n",
    "Wir wollen genau das nun tun, nutzen wieder die Funktion \"aggregate()\", diesmal aber die kombinierte Betrachtung zweier Spalten. Zunächst legen wir in der ursprünglichen Datenreihe zwei neue Spalten an, eine mit nur dem Jahr und eine mit nur dem Monat.\n",
    "\n",
    "Wir erstellen dann eine Reihe \"precip_monthly\" der wir die unter Berücksichtung der Jahres- und Monatsinformation summierten Niederschlagsdaten zuweisen - das liefert und für die Monate in den einzelnen Jahren die Summe, aber mittelt aber noch nicht über die Jahre.\n",
    "\n",
    "Wir erstellen nun eine weitere Variale \"precip_twelvemonths\" der wir unter Verwendung der Ergebnisse aus \"precip_monthly\" nun die Mittelwerte über die Monate (ungeachtet des Jahres) zuweisen - das liefert uns die mittleren monatlichen Niederschlagssummen."
   ]
  },
  {
   "cell_type": "code",
   "execution_count": null,
   "metadata": {},
   "outputs": [],
   "source": []
  },
  {
   "cell_type": "markdown",
   "metadata": {},
   "source": [
    "Schauen wir uns das Ergebniss mal an, indem wir nur den Variablen Namen eingeben und ausführen:"
   ]
  },
  {
   "cell_type": "code",
   "execution_count": null,
   "metadata": {},
   "outputs": [],
   "source": []
  },
  {
   "cell_type": "code",
   "execution_count": null,
   "metadata": {},
   "outputs": [],
   "source": []
  },
  {
   "cell_type": "markdown",
   "metadata": {},
   "source": [
    "Die hier erhaltenen Monatswerte stellen wir nun als Balkendiagramm in blau dar. Verwendet dabei das Argument \"lwd=\" um die Dicke Eurer Balken anzupassen:\n",
    "\n",
    "Tipp:\n",
    "\n",
    "Die Farbe kann wie gewohnt einfach unter Angabe einer Farbe gesetz werden (col=\"blue\") oder über einen RGB Wert definiert werden:\n",
    "\n",
    "col=rgb(0,0,0,alpha=0.3)\n",
    "\n",
    "Diese Option bietet auch die Möglichkeit einen Transparenzwert \"alpha\" zu definieren, allerdings ist aufzupassen, da RGB Werte in der Regel einen Bereich von 0-255 haben, hier aber eine Intensität von 0-1 eingesetzt werden muss! Man muss die RGB-Werte falls im 0-255er Wertebereich vorliegend, also normieren, d.h. durch den Maximalwert teilen:\n",
    "\n",
    "Für die Farbe blau heisst das: rgb(0,0,255) --> rgb(0/255,0/255,255/255)\n",
    "Eine Übersicht über verschiedene Farben und deren RGB Werte findet Ihr unter http://www.farb-tabelle.de/de/farbtabelle.htm!"
   ]
  },
  {
   "cell_type": "code",
   "execution_count": null,
   "metadata": {},
   "outputs": [],
   "source": []
  },
  {
   "cell_type": "markdown",
   "metadata": {},
   "source": [
    "Für die Temperatur geht es aufgrund der Mittelwertsbildung über Monate und Jahre hinweg einfacher. Wir können hier direkt auf monatlicher Basis mitteln ohne uns um die Jahre zu scheren - wir definieren hierzu eine Variable \"maxTemp_twelvemonths\" und übergeben Ihr die über die in den ursprünglichen Daten angelegte Spalte mit nur den Monatswerten den Mittelwert aller Tage in einem bestimmten Monat, wieder geben wir das Ergebnis aus:"
   ]
  },
  {
   "cell_type": "code",
   "execution_count": null,
   "metadata": {},
   "outputs": [],
   "source": []
  },
  {
   "cell_type": "markdown",
   "metadata": {},
   "source": [
    "Wir wollen nun auch die Monatsmittel der Temperaturmaxima plotten. Wir erstellen ein Diagramm, stellen dabei auf Punktsymbol und Linie um (type=\"b\"), passen die Linienstärke (lwd=) an und fügen zur Übung auch noch ein ausgwähltes Punktsymbol ein (pch=21).\n",
    "\n",
    "Wir speichern die Graphik in unser Arbeitsverzeichnis, indem wir nach dem Plot noch die Befehle \n",
    "\n",
    "\"dev.copy(png,'NameDerDatei.png')\"\n",
    "\n",
    "\"dev.off()\"\n",
    "\n",
    "anhängen!\n",
    "\n",
    "Tipp:\n",
    "\n",
    "1) Eine Übersicht über verfügbare Symbole findest Du unter: https://www.statmethods.net/advgraphs/images/points.png\n",
    "\n",
    "2) Solange wir im Jupyter arbeiten, könnt Ihr die generierten Grafiken auch mit \"Rechtsklick --> Speichern unter ...\" im Browser speichern!"
   ]
  },
  {
   "cell_type": "code",
   "execution_count": null,
   "metadata": {},
   "outputs": [],
   "source": []
  },
  {
   "cell_type": "markdown",
   "metadata": {},
   "source": [
    "## Lineare Regression"
   ]
  },
  {
   "cell_type": "markdown",
   "metadata": {},
   "source": [
    "Zur linearen Regression: \n",
    "Die lineare Regression versucht einen Y-Wert in linearer Abhängigkeit eines X-Wertes zu berechnen. Heraus kommt eine Regressionsfunktion: y = Achsenabschnitt + Steigung * x = b + m * x\n",
    "\n",
    "Wir wollen nun einmal untersuchen, ob es hier in den Maximaltemperaturen vielleicht einen linearen Trend gibt. Dafür verwenden wir die Funktion \"lm\" (linear model) und übergeben dieser zunächst den Y-Wert (die Maximaltemperatur) und dann den X-Wert (das Jahr). Die Ergebnisse schreiben wir in die Variable \"fit_maxTemp\"!\n",
    "\n",
    "Zuvor müssen wir unsere Jahresinformation aber wieder in eine Zahl (wir erinnern uns, die Zusammenfassung hat eine Zechenfolge daraus gemacht) umwandeln. Das machen wir mit der Funktion \"as.numeric()\"."
   ]
  },
  {
   "cell_type": "code",
   "execution_count": null,
   "metadata": {},
   "outputs": [],
   "source": []
  },
  {
   "cell_type": "markdown",
   "metadata": {},
   "source": [
    "Durch diesen Aufruf haben wir eine Variable \"fit_maxTemp\" definiert, die alle Information zur berechneten Regression enthält. Die Koeffizienten (Achsenabschnitt (= Intercept) und die Steigung (hier: maxTemp_year$date)) kann man sich über Aufruf von \"coefficients()\" und Angabe der Regressionsfunktion (\"fit_maxTemp\") ausgeben lassen:"
   ]
  },
  {
   "cell_type": "code",
   "execution_count": null,
   "metadata": {},
   "outputs": [],
   "source": []
  },
  {
   "cell_type": "markdown",
   "metadata": {},
   "source": [
    "Will man sich gleich die gesamte Zusammenfassung der Linearen Regression ansehen, verwendet man die Funktion \"summary()\" unter Angabe der Regressionsfunktion (\"fit_maxTemp\").\n",
    "\n",
    "Ausgeben werden dann 1) unter \"Call\" die verwendete Funktion, 2) die Statistik der Abweichungen (Residuen) unter \"Residuals\", 3) die Regressionskoeffizienten (Achsenabschnitt = Intercept und die Steigung) zusammen mit den Ergebnissen des Signifikanztests unter \"Coefficients\", sowie 4) der Standardfehler, das R2 und die F-Statistik.\n",
    "\n",
    "Aber was heisst \"Signifikanz\" eigentlich: Der hier verwendete Signifikanztest testet die Regressionskoeffizienten gegen \"0\". Er testet also, mit welcher Wahrscheinlichkeit ich richtig liege dass z.B. die Steigung ungleich \"0\" ist, also eine deutliche Zu- oder Abnahme vorliegt."
   ]
  },
  {
   "cell_type": "code",
   "execution_count": null,
   "metadata": {},
   "outputs": [],
   "source": []
  },
  {
   "cell_type": "markdown",
   "metadata": {},
   "source": [
    "Die in Abhängigkeit des Jahres berechneten Regressionswerte kann man sich über \"fitted.values\" und Angabe der Regressionsfunktion (\"fit_maxTemp\") ausgeben lassen:"
   ]
  },
  {
   "cell_type": "code",
   "execution_count": null,
   "metadata": {},
   "outputs": [],
   "source": []
  },
  {
   "cell_type": "markdown",
   "metadata": {},
   "source": [
    "Die Abweichungen (=Residuen) der tatsächlichen Temperaturwerte von den über das jeweilige Jahr berechneten kann man sich über \"residuals\" und Angabe der Regressionsfunktion (\"fit_maxTemp\") ausgeben lassen:"
   ]
  },
  {
   "cell_type": "code",
   "execution_count": null,
   "metadata": {},
   "outputs": [],
   "source": []
  },
  {
   "cell_type": "markdown",
   "metadata": {},
   "source": [
    "Wir fügen unserem Datensatz nun eine neue Spalte hinzu, die wir maxTemp_calculated benennen (\"maxTemp_year$maxTemp_calculated\") und weisen dieser Spalte die über die Regression berechneten Werte zu:"
   ]
  },
  {
   "cell_type": "code",
   "execution_count": null,
   "metadata": {},
   "outputs": [],
   "source": []
  },
  {
   "cell_type": "markdown",
   "metadata": {},
   "source": [
    "Durch Anzeigen des Headers sehen wir nach was hier passiert ist:"
   ]
  },
  {
   "cell_type": "code",
   "execution_count": null,
   "metadata": {},
   "outputs": [],
   "source": []
  },
  {
   "cell_type": "markdown",
   "metadata": {},
   "source": [
    "Nun wollen wir die Temperaturdaten inklusive des Trendes als Plot darstellen! Zusätzlich wollen wir die berechnete Regressiongleichung als Text in den Plot einfügen. \n",
    "\n",
    "1) Dazu müssen wir zunächst durch Zuhilfenahme der Funktion \"round(Variable,Dezimalstellen)\" die in der Variable \"coefficients(fit_maxTemp)\" gespeicherten Regressionskoeffizienten auf zwei Stellen hinter dem Komma runden. \n",
    "\n",
    "2) Danach basteln wir uns eine Textvariable \"regress_function\" in die wir mit der Funktion \"paste()\" nacheinander Textbausteine und Variablen einbauen.\n",
    "\n",
    "3) Unter verwendung der Funktion \"text(x-Position, y-Position, \"mein Text\")\" fügen wir die generierte Zeichenfolge in das Diagramm ein."
   ]
  },
  {
   "cell_type": "code",
   "execution_count": null,
   "metadata": {},
   "outputs": [],
   "source": []
  },
  {
   "cell_type": "markdown",
   "metadata": {},
   "source": [
    "Was können wir aus unserer Trendanalyse folgern? Nun die Regressionslinie zeigt eine Zunahme der jährlichen Maximaltemperatur über den gesamten Zeitraum. Die Zusammenfassung der Regressionsberechnungen hat uns geliefert, dass die Steigung unserer Regressionsgeraden mit 3 Sternen mit einer Wahrscheinlichkeit von > 0.999 (entspricht 99.9%) und einer Irrtumswahrscheinlichkeit von < 0.001 (entspricht 0.01%) verschieden von \"0\" ist - es liegt also ein hochsignifikanter Trend vor."
   ]
  },
  {
   "cell_type": "markdown",
   "metadata": {},
   "source": [
    "Nun haben wir eine ganze Menge zur Datenprozessierung mit R gelernt - wir sind fit für die Anwendung des Gelernten in einer Aufgabe!"
   ]
  }
 ],
 "metadata": {
  "kernelspec": {
   "display_name": "R",
   "language": "R",
   "name": "ir"
  },
  "language_info": {
   "codemirror_mode": "r",
   "file_extension": ".r",
   "mimetype": "text/x-r-source",
   "name": "R",
   "pygments_lexer": "r",
   "version": "3.5.0"
  }
 },
 "nbformat": 4,
 "nbformat_minor": 2
}
